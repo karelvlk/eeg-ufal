{
 "cells": [
  {
   "cell_type": "code",
   "execution_count": null,
   "metadata": {},
   "outputs": [],
   "source": [
    "import pandas as pd\n",
    "import matplotlib.pyplot as plt\n",
    "\n",
    "FILE_TO_PLOT = \"./ufal_emmt/preprocessed-data/eeg/See/P43-32-S191-A-U.csv\"\n",
    "\n",
    "# Load CSV file\n",
    "def plot_eeg_timeseries(csv_file):\n",
    "    # Read the CSV\n",
    "    df = pd.read_csv(csv_file)\n",
    "    \n",
    "    # Extract time series\n",
    "    time = df['TimeStamp']\n",
    "    \n",
    "    # Get electrode columns (Delta to RAW)\n",
    "    eeg_columns = df.columns[1:21]  # Delta_TP9 to RAW_TP10\n",
    "    \n",
    "    # Plot each electrode signal\n",
    "    plt.figure(figsize=(25, 8))\n",
    "    for col in eeg_columns:\n",
    "        plt.plot(time, df[col], label=col)\n",
    "    \n",
    "    plt.xlabel(\"Time (s)\")\n",
    "    plt.ylabel(\"EEG Signal Value\")\n",
    "    plt.title(\"EEG Time Series for All Electrodes\")\n",
    "    plt.xticks(rotation=90)\n",
    "    plt.legend()\n",
    "    plt.grid()\n",
    "    plt.show()\n",
    "\n",
    "# Example usage\n",
    "csv_file = FILE_TO_PLOT  # Change to the actual file path\n",
    "plot_eeg_timeseries(csv_file)\n"
   ]
  },
  {
   "cell_type": "markdown",
   "metadata": {},
   "source": [
    "# MNE"
   ]
  },
  {
   "cell_type": "code",
   "execution_count": null,
   "metadata": {},
   "outputs": [],
   "source": [
    "import pandas as pd\n",
    "import numpy as np\n",
    "import mne\n",
    "\n",
    "def load_eeg_to_mne(csv_file):\n",
    "    # Read the CSV file\n",
    "    df = pd.read_csv(csv_file)\n",
    "    \n",
    "    # Convert TimeStamp from HH:MM:SS.sss format to seconds\n",
    "    df['TimeStamp'] = pd.to_datetime(df['TimeStamp'], format='%H:%M:%S.%f', errors='coerce')\n",
    "    df['TimeStamp'] = (df['TimeStamp'] - df['TimeStamp'].iloc[0]).dt.total_seconds()\n",
    "    \n",
    "    # Forward-fill missing data\n",
    "    df.fillna(method='ffill', inplace=True)\n",
    "    \n",
    "    # Ensure no NaN values remain by filling any remaining ones with 0\n",
    "    df.fillna(0, inplace=True)\n",
    "    time = df['TimeStamp'].values\n",
    "    \n",
    "    # Select EEG columns (Delta to RAW)\n",
    "    eeg_columns = df.columns[1:21]  # Delta_TP9 to RAW_TP10\n",
    "    eeg_data = df[eeg_columns].values.T  # Transpose to match (channels, samples)\n",
    "    \n",
    "    # Define sampling frequency (estimate based on time diffs)\n",
    "    sfreq = 1 / np.mean(np.diff(time)) if len(time) > 1 else 256  # Default to 256 if only one timestamp\n",
    "    \n",
    "    # Create MNE info structure\n",
    "    ch_names = list(eeg_columns)\n",
    "    ch_types = ['eeg'] * len(ch_names)\n",
    "    info = mne.create_info(ch_names=ch_names, sfreq=sfreq, ch_types=ch_types)\n",
    "    \n",
    "    # Create RawArray object\n",
    "    raw = mne.io.RawArray(eeg_data, info)\n",
    "    return raw\n",
    "\n",
    "# Example usage\n",
    "csv_file = FILE_TO_PLOT  # Change to the actual file path\n",
    "raw = load_eeg_to_mne(csv_file)\n",
    "raw.plot(scalings=\"auto\");  # Visualize the EEG data\n"
   ]
  }
 ],
 "metadata": {
  "kernelspec": {
   "display_name": "eeg-ufal-MevWUPBA-py3.11",
   "language": "python",
   "name": "python3"
  },
  "language_info": {
   "codemirror_mode": {
    "name": "ipython",
    "version": 3
   },
   "file_extension": ".py",
   "mimetype": "text/x-python",
   "name": "python",
   "nbconvert_exporter": "python",
   "pygments_lexer": "ipython3",
   "version": "3.11.2"
  }
 },
 "nbformat": 4,
 "nbformat_minor": 2
}
