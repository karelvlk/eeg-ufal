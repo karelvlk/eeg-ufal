{
 "cells": [
  {
   "cell_type": "code",
   "execution_count": null,
   "metadata": {},
   "outputs": [],
   "source": [
    "import mne\n",
    "from data_preprocessing import load_csv_to_raw\n",
    "\n",
    "raw, _, _ = load_csv_to_raw(\"./ufal_emmt/preprocessed-data/eeg/See/P43-32-S191-A-U.csv\")\n",
    "raw.filter(l_freq=1.0, h_freq=40.0)\n",
    "raw.plot(scalings=\"auto\", clipping=None)"
   ]
  },
  {
   "cell_type": "code",
   "execution_count": null,
   "metadata": {},
   "outputs": [],
   "source": [
    "import mne\n",
    "\n",
    "# Set dataset directory\n",
    "data_path = mne.datasets.sleep_physionet.age.fetch_data(subjects=[0], recording=[1])\n",
    "\n",
    "# Load raw EEG data\n",
    "raw_fnames = data_path[0][0]  # First subject, first recording\n",
    "raw = mne.io.read_raw_edf(raw_fnames, preload=True)\n",
    "\n",
    "# Display dataset information\n",
    "print(raw.info)\n",
    "\n",
    "# Plot EEG signal\n",
    "raw.plot(duration=10, n_channels=5, scalings=\"auto\");"
   ]
  }
 ],
 "metadata": {
  "kernelspec": {
   "display_name": "eeg-ufal-MevWUPBA-py3.11",
   "language": "python",
   "name": "python3"
  },
  "language_info": {
   "codemirror_mode": {
    "name": "ipython",
    "version": 3
   },
   "file_extension": ".py",
   "mimetype": "text/x-python",
   "name": "python",
   "nbconvert_exporter": "python",
   "pygments_lexer": "ipython3",
   "version": "3.11.2"
  }
 },
 "nbformat": 4,
 "nbformat_minor": 4
}
